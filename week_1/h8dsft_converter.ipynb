{
 "cells": [
  {
   "cell_type": "code",
   "execution_count": 50,
   "metadata": {},
   "outputs": [
    {
     "data": {
      "text/plain": [
       "'26.850000000000023 Celcius'"
      ]
     },
     "execution_count": 50,
     "metadata": {},
     "output_type": "execute_result"
    }
   ],
   "source": [
    "# Konversi Kelvin ke Celcius\n",
    "def KelvinToCelcius(suhu):\n",
    "     # Karena 0 Kelvin = -273 Celcius\n",
    "    return (f'{suhu - 273.15} Celcius')\n",
    "# Run function dimana 300 kelvin = (300 - 273.15) celcius\n",
    "KelvinToCelcius(300)"
   ]
  },
  {
   "cell_type": "code",
   "execution_count": 51,
   "metadata": {},
   "outputs": [
    {
     "data": {
      "text/plain": [
       "'298.15 Kelvin'"
      ]
     },
     "execution_count": 51,
     "metadata": {},
     "output_type": "execute_result"
    }
   ],
   "source": [
    "#Konversi Celcius ke Kelvin\n",
    "def CelciusToKelvin(suhu):\n",
    "     # Karena 0 Celcius = 273 Kelvin\n",
    "    return (f'{suhu + 273.15} Kelvin')\n",
    "# Run function dimana 25 celcius = (25 + 273.15) kelvin\n",
    "CelciusToKelvin(25)"
   ]
  },
  {
   "cell_type": "code",
   "execution_count": 52,
   "metadata": {},
   "outputs": [
    {
     "data": {
      "text/plain": [
       "'82 Fahrenheit'"
      ]
     },
     "execution_count": 52,
     "metadata": {},
     "output_type": "execute_result"
    }
   ],
   "source": [
    "#Pemberian Variabel untuk string Kelvin dan Celcius\n",
    "K = 'kelvin'\n",
    "C = 'celcius'\n",
    "\n",
    "# Function yang terdiri atas 2 parameter, suhu untuk input suhu, parameter untuk menentukan jenis suhu\n",
    "def ConvertToFahr(suhu, parameter):\n",
    "    # Kalau jenis suhu pada parameter tertulis kelvin (yang mana sudah dimasukan pada variabel K), maka function ini merubah kelvin ke fahrenheit\n",
    "    if parameter == 'kelvin':\n",
    "        return (f'{suhu - -459.67} Fahrenheit')\n",
    "    # Kalau jenis suhu pada parameter tertulis celcius (yang mana sudah dimasukan pada variabel C), maka function ini merubah celcius ke fahrenheit \n",
    "    elif parameter == 'celcius':\n",
    "        return (f'{suhu + 32} Fahrenheit')\n",
    "\n",
    "# Run function dimana 50 celcius = (50+32) fahrenheit\n",
    "ConvertToFahr(50,C)\n",
    "\n"
   ]
  },
  {
   "cell_type": "code",
   "execution_count": 53,
   "metadata": {},
   "outputs": [
    {
     "data": {
      "text/plain": [
       "'265.37 Kelvin'"
      ]
     },
     "execution_count": 53,
     "metadata": {},
     "output_type": "execute_result"
    }
   ],
   "source": [
    "# Function yang terdiri atas 2 parameter, suhu untuk input suhu, hasil untuk menentukan hasil jenis suhu.\n",
    "def ConvertFromFahr(suhu,hasil):\n",
    "    # Kalau jenis suhu pada hasil tertulis kelvin (yang mana sudah dimasukan pada variabel K), maka function ini merubah fahrenheit ke kelvin\n",
    "    if hasil == 'kelvin':\n",
    "        return (f'{suhu + 255.37} Kelvin')\n",
    "    # Kalau jenis suhu pada hasil tertulis celcius (yang mana sudah dimasukan pada variabel C), maka function ini merubah fakrenheit ke celcius\n",
    "    elif hasil == 'celcius':\n",
    "        return (f'{suhu - 17.77} Celcius')\n",
    "\n",
    "# Run function dimana 10 Fahrenheit = (10+255.37) fahrenheit\n",
    "ConvertFromFahr(10,K)"
   ]
  }
 ],
 "metadata": {
  "interpreter": {
   "hash": "759acc341a1e4c59f74210e00c9af919187760f3a08531c4a83bb63a4bffddd0"
  },
  "kernelspec": {
   "display_name": "Python 3.9.7 ('base')",
   "language": "python",
   "name": "python3"
  },
  "language_info": {
   "codemirror_mode": {
    "name": "ipython",
    "version": 3
   },
   "file_extension": ".py",
   "mimetype": "text/x-python",
   "name": "python",
   "nbconvert_exporter": "python",
   "pygments_lexer": "ipython3",
   "version": "3.9.7"
  },
  "orig_nbformat": 4
 },
 "nbformat": 4,
 "nbformat_minor": 2
}
